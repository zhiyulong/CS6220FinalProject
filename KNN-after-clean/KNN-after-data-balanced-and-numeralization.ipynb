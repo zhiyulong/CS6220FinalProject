{
 "cells": [
  {
   "cell_type": "code",
   "execution_count": 1,
   "metadata": {
    "execution": {
     "iopub.execute_input": "2022-11-20T03:41:02.956807Z",
     "iopub.status.busy": "2022-11-20T03:41:02.956282Z",
     "iopub.status.idle": "2022-11-20T03:41:04.586468Z",
     "shell.execute_reply": "2022-11-20T03:41:04.584927Z",
     "shell.execute_reply.started": "2022-11-20T03:41:02.956702Z"
    }
   },
   "outputs": [],
   "source": [
    "# library\n",
    "import math\n",
    "import random\n",
    "import numpy as np\n",
    "import pandas as pd\n",
    "import seaborn as sns\n",
    "from sklearn.utils import resample\n",
    "from matplotlib import pyplot as plt\n",
    "from sklearn.model_selection import train_test_split\n",
    "from sklearn.feature_extraction.text import CountVectorizer\n",
    "from sklearn.feature_extraction.text import TfidfVectorizer"
   ]
  },
  {
   "cell_type": "code",
   "execution_count": 2,
   "metadata": {
    "execution": {
     "iopub.execute_input": "2022-11-20T03:41:04.589908Z",
     "iopub.status.busy": "2022-11-20T03:41:04.589388Z",
     "iopub.status.idle": "2022-11-20T03:41:05.104304Z",
     "shell.execute_reply": "2022-11-20T03:41:05.102732Z",
     "shell.execute_reply.started": "2022-11-20T03:41:04.589861Z"
    }
   },
   "outputs": [],
   "source": [
    "# load cleaned data\n",
    "data = pd.read_pickle(\"cleaned.pkl\")"
   ]
  },
  {
   "cell_type": "code",
   "execution_count": 3,
   "metadata": {
    "execution": {
     "iopub.execute_input": "2022-11-20T03:41:05.106807Z",
     "iopub.status.busy": "2022-11-20T03:41:05.106262Z",
     "iopub.status.idle": "2022-11-20T03:41:05.148609Z",
     "shell.execute_reply": "2022-11-20T03:41:05.146811Z",
     "shell.execute_reply.started": "2022-11-20T03:41:05.106752Z"
    }
   },
   "outputs": [
    {
     "data": {
      "text/html": [
       "<div>\n",
       "<style scoped>\n",
       "    .dataframe tbody tr th:only-of-type {\n",
       "        vertical-align: middle;\n",
       "    }\n",
       "\n",
       "    .dataframe tbody tr th {\n",
       "        vertical-align: top;\n",
       "    }\n",
       "\n",
       "    .dataframe thead th {\n",
       "        text-align: right;\n",
       "    }\n",
       "</style>\n",
       "<table border=\"1\" class=\"dataframe\">\n",
       "  <thead>\n",
       "    <tr style=\"text-align: right;\">\n",
       "      <th></th>\n",
       "      <th>company_profile</th>\n",
       "      <th>description</th>\n",
       "      <th>requirements</th>\n",
       "      <th>benefits</th>\n",
       "      <th>fraudulent</th>\n",
       "    </tr>\n",
       "  </thead>\n",
       "  <tbody>\n",
       "    <tr>\n",
       "      <th>0</th>\n",
       "      <td>food52 weve created groundbreaking awardwinnin...</td>\n",
       "      <td>food52 fastgrowing james beard awardwinning on...</td>\n",
       "      <td>experience content management systems major pl...</td>\n",
       "      <td>experience content management systems major pl...</td>\n",
       "      <td>0</td>\n",
       "    </tr>\n",
       "    <tr>\n",
       "      <th>1</th>\n",
       "      <td>90 seconds worlds cloud video production servi...</td>\n",
       "      <td>organised focused vibrant awesomedo passion cu...</td>\n",
       "      <td>expect key responsibility communicate client 9...</td>\n",
       "      <td>expect key responsibility communicate client 9...</td>\n",
       "      <td>0</td>\n",
       "    </tr>\n",
       "    <tr>\n",
       "      <th>2</th>\n",
       "      <td>valor services provides workforce solutions me...</td>\n",
       "      <td>client located houston actively seeking experi...</td>\n",
       "      <td>implement precommissioning commissioning proce...</td>\n",
       "      <td>implement precommissioning commissioning proce...</td>\n",
       "      <td>0</td>\n",
       "    </tr>\n",
       "    <tr>\n",
       "      <th>3</th>\n",
       "      <td>passion improving quality life geography heart...</td>\n",
       "      <td>company esri environmental systems research in...</td>\n",
       "      <td>education bachelors masters gis business admin...</td>\n",
       "      <td>education bachelors masters gis business admin...</td>\n",
       "      <td>0</td>\n",
       "    </tr>\n",
       "    <tr>\n",
       "      <th>4</th>\n",
       "      <td>spot source solutions llc global human capital...</td>\n",
       "      <td>job title itemization review manager location ...</td>\n",
       "      <td>qualifications rn license state texas diploma ...</td>\n",
       "      <td>qualifications rn license state texas diploma ...</td>\n",
       "      <td>0</td>\n",
       "    </tr>\n",
       "    <tr>\n",
       "      <th>...</th>\n",
       "      <td>...</td>\n",
       "      <td>...</td>\n",
       "      <td>...</td>\n",
       "      <td>...</td>\n",
       "      <td>...</td>\n",
       "    </tr>\n",
       "    <tr>\n",
       "      <th>17875</th>\n",
       "      <td>vend looking awesome new talent come join us y...</td>\n",
       "      <td>case first time youve visited website vend awa...</td>\n",
       "      <td>ace role eat comprehensive statements work bre...</td>\n",
       "      <td>ace role eat comprehensive statements work bre...</td>\n",
       "      <td>0</td>\n",
       "    </tr>\n",
       "    <tr>\n",
       "      <th>17876</th>\n",
       "      <td>web linc ecommerce platform services provider ...</td>\n",
       "      <td>payroll accountant focus primarily payroll fun...</td>\n",
       "      <td>ba bs accounting desire fun love genuine passi...</td>\n",
       "      <td>ba bs accounting desire fun love genuine passi...</td>\n",
       "      <td>0</td>\n",
       "    </tr>\n",
       "    <tr>\n",
       "      <th>17877</th>\n",
       "      <td>provide full time permanent positions many med...</td>\n",
       "      <td>experienced project cost control staff enginee...</td>\n",
       "      <td>least 12 years professional experienceability ...</td>\n",
       "      <td>least 12 years professional experienceability ...</td>\n",
       "      <td>0</td>\n",
       "    </tr>\n",
       "    <tr>\n",
       "      <th>17878</th>\n",
       "      <td>na</td>\n",
       "      <td>nemsia studios looking experienced visualgraph...</td>\n",
       "      <td>1 must fluent latest versions corel amp adobe ...</td>\n",
       "      <td>1 must fluent latest versions corel amp adobe ...</td>\n",
       "      <td>0</td>\n",
       "    </tr>\n",
       "    <tr>\n",
       "      <th>17879</th>\n",
       "      <td>Vend is looking for some awesome new talent to...</td>\n",
       "      <td>wevend award winning web based point sale soft...</td>\n",
       "      <td>We want to hear from you if:You have an in-dep...</td>\n",
       "      <td>NA</td>\n",
       "      <td>0</td>\n",
       "    </tr>\n",
       "  </tbody>\n",
       "</table>\n",
       "<p>17879 rows × 5 columns</p>\n",
       "</div>"
      ],
      "text/plain": [
       "                                         company_profile  \\\n",
       "0      food52 weve created groundbreaking awardwinnin...   \n",
       "1      90 seconds worlds cloud video production servi...   \n",
       "2      valor services provides workforce solutions me...   \n",
       "3      passion improving quality life geography heart...   \n",
       "4      spot source solutions llc global human capital...   \n",
       "...                                                  ...   \n",
       "17875  vend looking awesome new talent come join us y...   \n",
       "17876  web linc ecommerce platform services provider ...   \n",
       "17877  provide full time permanent positions many med...   \n",
       "17878                                                 na   \n",
       "17879  Vend is looking for some awesome new talent to...   \n",
       "\n",
       "                                             description  \\\n",
       "0      food52 fastgrowing james beard awardwinning on...   \n",
       "1      organised focused vibrant awesomedo passion cu...   \n",
       "2      client located houston actively seeking experi...   \n",
       "3      company esri environmental systems research in...   \n",
       "4      job title itemization review manager location ...   \n",
       "...                                                  ...   \n",
       "17875  case first time youve visited website vend awa...   \n",
       "17876  payroll accountant focus primarily payroll fun...   \n",
       "17877  experienced project cost control staff enginee...   \n",
       "17878  nemsia studios looking experienced visualgraph...   \n",
       "17879  wevend award winning web based point sale soft...   \n",
       "\n",
       "                                            requirements  \\\n",
       "0      experience content management systems major pl...   \n",
       "1      expect key responsibility communicate client 9...   \n",
       "2      implement precommissioning commissioning proce...   \n",
       "3      education bachelors masters gis business admin...   \n",
       "4      qualifications rn license state texas diploma ...   \n",
       "...                                                  ...   \n",
       "17875  ace role eat comprehensive statements work bre...   \n",
       "17876  ba bs accounting desire fun love genuine passi...   \n",
       "17877  least 12 years professional experienceability ...   \n",
       "17878  1 must fluent latest versions corel amp adobe ...   \n",
       "17879  We want to hear from you if:You have an in-dep...   \n",
       "\n",
       "                                                benefits  fraudulent  \n",
       "0      experience content management systems major pl...           0  \n",
       "1      expect key responsibility communicate client 9...           0  \n",
       "2      implement precommissioning commissioning proce...           0  \n",
       "3      education bachelors masters gis business admin...           0  \n",
       "4      qualifications rn license state texas diploma ...           0  \n",
       "...                                                  ...         ...  \n",
       "17875  ace role eat comprehensive statements work bre...           0  \n",
       "17876  ba bs accounting desire fun love genuine passi...           0  \n",
       "17877  least 12 years professional experienceability ...           0  \n",
       "17878  1 must fluent latest versions corel amp adobe ...           0  \n",
       "17879                                                 NA           0  \n",
       "\n",
       "[17879 rows x 5 columns]"
      ]
     },
     "execution_count": 3,
     "metadata": {},
     "output_type": "execute_result"
    }
   ],
   "source": [
    "data"
   ]
  },
  {
   "cell_type": "code",
   "execution_count": 4,
   "metadata": {
    "execution": {
     "iopub.execute_input": "2022-11-20T03:41:05.151654Z",
     "iopub.status.busy": "2022-11-20T03:41:05.151317Z",
     "iopub.status.idle": "2022-11-20T03:41:05.295338Z",
     "shell.execute_reply": "2022-11-20T03:41:05.293894Z",
     "shell.execute_reply.started": "2022-11-20T03:41:05.151623Z"
    }
   },
   "outputs": [],
   "source": [
    "# We connect all text together as one feature.\n",
    "data[\"full_text\"] = data[\"company_profile\"] + \" \" + data[\"description\"] + \" \" + data[\"requirements\"] + \" \" + data[\"benefits\"]"
   ]
  },
  {
   "cell_type": "code",
   "execution_count": 5,
   "metadata": {
    "execution": {
     "iopub.execute_input": "2022-11-20T03:41:05.298271Z",
     "iopub.status.busy": "2022-11-20T03:41:05.297183Z",
     "iopub.status.idle": "2022-11-20T03:41:05.323354Z",
     "shell.execute_reply": "2022-11-20T03:41:05.321746Z",
     "shell.execute_reply.started": "2022-11-20T03:41:05.298217Z"
    }
   },
   "outputs": [
    {
     "name": "stdout",
     "output_type": "stream",
     "text": [
      "company_profile    0\n",
      "description        0\n",
      "requirements       0\n",
      "benefits           0\n",
      "fraudulent         0\n",
      "full_text          0\n",
      "dtype: int64\n"
     ]
    }
   ],
   "source": [
    "# Check if there has any Null value\n",
    "null_all = data.isnull().sum()\n",
    "print(null_all)"
   ]
  },
  {
   "cell_type": "markdown",
   "metadata": {},
   "source": [
    "# Balance Data Set"
   ]
  },
  {
   "cell_type": "code",
   "execution_count": 6,
   "metadata": {
    "execution": {
     "iopub.execute_input": "2022-11-20T03:41:05.325643Z",
     "iopub.status.busy": "2022-11-20T03:41:05.325241Z",
     "iopub.status.idle": "2022-11-20T03:41:05.599156Z",
     "shell.execute_reply": "2022-11-20T03:41:05.597629Z",
     "shell.execute_reply.started": "2022-11-20T03:41:05.325610Z"
    }
   },
   "outputs": [
    {
     "data": {
      "image/png": "[encoded data removed]",
      "text/plain": [
       "<Figure size 1000x1000 with 1 Axes>"
      ]
     },
     "metadata": {},
     "output_type": "display_data"
    }
   ],
   "source": [
    "# Check if imbalance data by using bar figure.\n",
    "plt.figure(figsize = (10,10))\n",
    "sns.countplot(x=\"fraudulent\", data=data)\n",
    "plt.title(\"Real Vs. Fake postings count\", fontsize = 15)\n",
    "plt.show()"
   ]
  },
  {
   "cell_type": "code",
   "execution_count": 7,
   "metadata": {
    "execution": {
     "iopub.execute_input": "2022-11-20T03:41:05.601470Z",
     "iopub.status.busy": "2022-11-20T03:41:05.601113Z",
     "iopub.status.idle": "2022-11-20T03:41:05.619087Z",
     "shell.execute_reply": "2022-11-20T03:41:05.617847Z",
     "shell.execute_reply.started": "2022-11-20T03:41:05.601440Z"
    }
   },
   "outputs": [],
   "source": [
    "train, test = train_test_split(data, test_size=0.2, random_state = 1)"
   ]
  },
  {
   "cell_type": "code",
   "execution_count": 8,
   "metadata": {
    "execution": {
     "iopub.execute_input": "2022-11-20T03:41:05.621457Z",
     "iopub.status.busy": "2022-11-20T03:41:05.620992Z",
     "iopub.status.idle": "2022-11-20T03:41:05.634889Z",
     "shell.execute_reply": "2022-11-20T03:41:05.633493Z",
     "shell.execute_reply.started": "2022-11-20T03:41:05.621425Z"
    }
   },
   "outputs": [
    {
     "name": "stdout",
     "output_type": "stream",
     "text": [
      "Number of cases:  14303\n",
      "Number of fraudulent cases:  708\n",
      "Number of non fraudulent cases:  13595\n"
     ]
    }
   ],
   "source": [
    "# Check imbalance data distribution.\n",
    "print(\"Number of cases: \" , len(train))\n",
    "print(\"Number of fraudulent cases: \", len(train[train[\"fraudulent\"] == 1]))\n",
    "print(\"Number of non fraudulent cases: \", len(train[train[\"fraudulent\"] == 0]))"
   ]
  },
  {
   "cell_type": "code",
   "execution_count": 9,
   "metadata": {
    "execution": {
     "iopub.execute_input": "2022-11-20T03:41:05.638176Z",
     "iopub.status.busy": "2022-11-20T03:41:05.636733Z",
     "iopub.status.idle": "2022-11-20T03:41:05.665526Z",
     "shell.execute_reply": "2022-11-20T03:41:05.664319Z",
     "shell.execute_reply.started": "2022-11-20T03:41:05.638106Z"
    }
   },
   "outputs": [],
   "source": [
    "# Random seed.\n",
    "random.seed(1)\n",
    "\n",
    "# Since the fraudulent cases is extremely less than non-fradulent cases, we assign non-fraudulent as majority.\n",
    "df_majority = train[train[\"fraudulent\"]== 0]\n",
    "df_minority = train[train[\"fraudulent\"]== 1]\n",
    "\n",
    "# Upsample the dataset by simply copying records from minority classes by using resample().\n",
    "# The value for the n_samples parameter is set to a half of the number of majority class to avoid overfitting.\n",
    "negative_upsample = resample(df_minority, replace = True, \n",
    "                        n_samples = math.ceil(df_majority.shape[0]/2),\n",
    "                        random_state = 101)\n",
    "\n",
    "# Aslo, we need to undersample majority classes\n",
    "negative_undersample = resample(df_majority, replace = True, \n",
    "                        n_samples = math.ceil(df_majority.shape[0]/2),\n",
    "                        random_state = 101)\n",
    "\n",
    "# Concat two dataframes (majority class and upsampled minority class).\n",
    "df_upsampled = pd.concat([negative_undersample, negative_upsample])\n",
    "df_upsampled = df_upsampled.sample(frac = 1, random_state = 101)"
   ]
  },
  {
   "cell_type": "code",
   "execution_count": 10,
   "metadata": {
    "execution": {
     "iopub.execute_input": "2022-11-20T03:41:05.669412Z",
     "iopub.status.busy": "2022-11-20T03:41:05.668902Z",
     "iopub.status.idle": "2022-11-20T03:41:05.893975Z",
     "shell.execute_reply": "2022-11-20T03:41:05.892330Z",
     "shell.execute_reply.started": "2022-11-20T03:41:05.669379Z"
    }
   },
   "outputs": [
    {
     "data": {
      "image/png": "[encoded data removed]",
      "text/plain": [
       "<Figure size 1000x1000 with 1 Axes>"
      ]
     },
     "metadata": {},
     "output_type": "display_data"
    }
   ],
   "source": [
    "# Show data distribution after resample\n",
    "plt.figure(figsize = (10,10))\n",
    "sns.countplot(x=\"fraudulent\", data=df_upsampled)\n",
    "plt.title(\"Real Vs. Fake postings count\", fontsize = 15)\n",
    "plt.show()"
   ]
  },
  {
   "cell_type": "code",
   "execution_count": 11,
   "metadata": {
    "execution": {
     "iopub.execute_input": "2022-11-20T03:41:05.896963Z",
     "iopub.status.busy": "2022-11-20T03:41:05.896403Z",
     "iopub.status.idle": "2022-11-20T03:41:05.912095Z",
     "shell.execute_reply": "2022-11-20T03:41:05.910287Z",
     "shell.execute_reply.started": "2022-11-20T03:41:05.896904Z"
    }
   },
   "outputs": [
    {
     "name": "stdout",
     "output_type": "stream",
     "text": [
      "Number of cases:  13596\n",
      "Number of fraudulent cases:  6798\n",
      "Number of non fraudulent cases:  6798\n"
     ]
    }
   ],
   "source": [
    "# Check data after resample.\n",
    "print(\"Number of cases: \" , len(df_upsampled))\n",
    "print(\"Number of fraudulent cases: \", len(df_upsampled[df_upsampled[\"fraudulent\"] == 1]))\n",
    "print(\"Number of non fraudulent cases: \", len(df_upsampled[df_upsampled[\"fraudulent\"] == 0]))"
   ]
  },
  {
   "cell_type": "code",
   "execution_count": 12,
   "metadata": {
    "execution": {
     "iopub.execute_input": "2022-11-20T03:41:05.914432Z",
     "iopub.status.busy": "2022-11-20T03:41:05.913989Z",
     "iopub.status.idle": "2022-11-20T03:41:05.920800Z",
     "shell.execute_reply": "2022-11-20T03:41:05.919548Z",
     "shell.execute_reply.started": "2022-11-20T03:41:05.914397Z"
    }
   },
   "outputs": [],
   "source": [
    "# Set train data as \"full_text\" feature and set target value.\n",
    "train_x = df_upsampled['full_text']\n",
    "test_x = test['full_text']\n",
    "\n",
    "train_y = df_upsampled['fraudulent']\n",
    "test_y = test['fraudulent']"
   ]
  },
  {
   "cell_type": "code",
   "execution_count": 13,
   "metadata": {
    "execution": {
     "iopub.execute_input": "2022-11-20T03:41:05.922848Z",
     "iopub.status.busy": "2022-11-20T03:41:05.922512Z",
     "iopub.status.idle": "2022-11-20T03:41:09.804880Z",
     "shell.execute_reply": "2022-11-20T03:41:09.803568Z",
     "shell.execute_reply.started": "2022-11-20T03:41:05.922818Z"
    }
   },
   "outputs": [],
   "source": [
    "# In order to perform machine learning on text documents, we first need to turn the text content into numerical feature vectors.\n",
    "# Our model cannot simply read the text data so we convert it into numerical format. \n",
    "# In order to convert the data into numerical format we create vectors from text.\n",
    "vectorizer = TfidfVectorizer()\n",
    "\n",
    "train_data = vectorizer.fit_transform(train_x)\n",
    "test_data = vectorizer.transform(test_x)"
   ]
  },
  {
   "cell_type": "markdown",
   "metadata": {},
   "source": [
    "### KNN implementation\n",
    "\n",
    "For applying KNN, first import the KNeighborsClassifier module and create KNN classifier object by giving a number of neighbors in KNeighborsClassifier() function. \n"
   ]
  },
  {
   "cell_type": "code",
   "execution_count": null,
   "metadata": {},
   "outputs": [],
   "source": [
    "# import needed libraries\n",
    "from sklearn.neighbors import KNeighborsClassifier\n",
    "from sklearn import metrics\n",
    "from sklearn.metrics import accuracy_score\n",
    "from sklearn.metrics import confusion_matrix\n",
    "from sklearn.metrics import classification_report"
   ]
  },
  {
   "cell_type": "markdown",
   "metadata": {},
   "source": [
    "#### Implement KNN on unprocessed dataset\n",
    "First, check the performance of KNN by using the oringinal uncleaned and unbalanced data, pick the 'description' as the feature."
   ]
  },
  {
   "cell_type": "code",
   "execution_count": 14,
   "metadata": {},
   "outputs": [
    {
     "ename": "NameError",
     "evalue": "name 'accuracy_score' is not defined",
     "output_type": "error",
     "traceback": [
      "\u001b[0;31m---------------------------------------------------------------------------\u001b[0m",
      "\u001b[0;31mNameError\u001b[0m                                 Traceback (most recent call last)",
      "Cell \u001b[0;32mIn [14], line 20\u001b[0m\n\u001b[1;32m     18\u001b[0m knn\u001b[38;5;241m.\u001b[39mfit(x_trainvec, y_train_unprocessed)\n\u001b[1;32m     19\u001b[0m y_pred_unprocessed \u001b[38;5;241m=\u001b[39m knn\u001b[38;5;241m.\u001b[39mpredict(x_testvec)\u001b[38;5;241m.\u001b[39mflatten()\n\u001b[0;32m---> 20\u001b[0m accuracy_score(y_pred_unprocessed, y_test_unprocessed)\n",
      "\u001b[0;31mNameError\u001b[0m: name 'accuracy_score' is not defined"
     ]
    }
   ],
   "source": [
    "#define the variables\n",
    "x = data['description']\n",
    "y = data['fraudulent']\n",
    "\n",
    "#split it into training and test sets\n",
    "x_train_unprocessed, x_test_unprocessed, y_train_unprocessed, y_test_unprocessed = train_test_split(x, y, test_size=0.2, random_state = 1)\n",
    "\n",
    "#vectorization\n",
    "vectorizer = TfidfVectorizer()\n",
    "vectorizer.fit(x_train_unprocessed)\n",
    "\n",
    "x_trainvec = vectorizer.transform(x_train_unprocessed)\n",
    "x_testvec = vectorizer.transform(x_test_unprocessed)\n",
    "\n",
    "knn = KNeighborsClassifier()\n",
    "knn.fit(x_trainvec, y_train_unprocessed)\n",
    "y_pred_unprocessed = knn.predict(x_testvec).flatten()\n",
    "accuracy_score(y_pred_unprocessed, y_test_unprocessed)"
   ]
  },
  {
   "cell_type": "markdown",
   "metadata": {},
   "source": [
    "#### Implement KNN on processed dataset\n",
    "\n",
    "In our implementation, we use K=1, K=3, and K=5 and compare their accuracy, confusion matrix, and finally check the difference between their classification reports."
   ]
  },
  {
   "cell_type": "code",
   "execution_count": null,
   "metadata": {},
   "outputs": [],
   "source": [
    "knn1 = KNeighborsClassifier(n_neighbors=1)\n",
    "knn1.fit(train_data, train_y)\n",
    "\n",
    "knn3 = KNeighborsClassifier(n_neighbors=3)\n",
    "knn3.fit(train_data, train_y)\n",
    "\n",
    "knn5 = KNeighborsClassifier(n_neighbors=5)\n",
    "knn5.fit(train_data, train_y)"
   ]
  },
  {
   "cell_type": "code",
   "execution_count": null,
   "metadata": {},
   "outputs": [],
   "source": [
    "y_test = test_y.values.flatten()\n",
    "\n",
    "y_pred1 = knn1.predict(test_data).flatten()\n",
    "y_pred3 = knn3.predict(test_data).flatten()\n",
    "y_pred5 = knn5.predict(test_data).flatten()"
   ]
  },
  {
   "cell_type": "code",
   "execution_count": null,
   "metadata": {},
   "outputs": [],
   "source": [
    "# report\n",
    "knn_accuracy1 = accuracy_score(y_pred1, y_test)\n",
    "knn_confusionMatrix1 = confusion_matrix(y_test, y_pred1)\n",
    "knn_classification1 = classification_report(y_test, y_pred1)\n",
    "\n",
    "knn_accuracy3 = accuracy_score(y_pred3, y_test)\n",
    "knn_confusionMatrix3 = confusion_matrix(y_test, y_pred3)\n",
    "knn_classification3 = classification_report(y_test, y_pred3)\n",
    "\n",
    "knn_accuracy5 = accuracy_score(y_pred5, y_test)\n",
    "knn_confusionMatrix5 = confusion_matrix(y_test, y_pred5)\n",
    "knn_classification5 = classification_report(y_test, y_pred5)\n",
    "\n",
    "# print report\n",
    "print(\"- Accuracy score of KNN\")\n",
    "print(f\"K=1: {knn_accuracy1}\")\n",
    "print(f\"K=3: {knn_accuracy3}\")\n",
    "print(f\"K=5: {knn_accuracy5}\\n\\n\")\n",
    "\n",
    "print(\"- Confusion matrix of KNN\")\n",
    "print(f\"K=1:\\n {knn_confusionMatrix1}\\n\")\n",
    "print(f\"K=3:\\n {knn_confusionMatrix3}\\n\")\n",
    "print(f\"K=5:\\n {knn_confusionMatrix5}\\n\\n\")\n",
    "\n",
    "\n",
    "print(\"- Classification report of KNN\")\n",
    "print(f\"\\nK=1:\\n {knn_classification1}\\n\")\n",
    "print(f\"\\nK=3:\\n {knn_classification3}\\n\")\n",
    "print(f\"\\nK=5:\\n {knn_classification5}\")"
   ]
  },
  {
   "cell_type": "markdown",
   "metadata": {},
   "source": [
    "### AUC-ROC\n",
    "\n",
    "The results showing that we got better scores with the smaller K value. We use K=5 for the AUC-ROC graph generation, because a large number of neighbors will have a smoother decision boundary and K=5 also has accuracy greater than 90%.\n"
   ]
  },
  {
   "cell_type": "code",
   "execution_count": null,
   "metadata": {},
   "outputs": [],
   "source": [
    "# for K=5\n",
    "fpr, tpr, _ = metrics.roc_curve(y_test, y_pred5.ravel())\n",
    "auc = metrics.roc_auc_score(y_test, y_pred5, average='macro')\n",
    "roc_auc = metrics.auc(fpr, tpr)\n",
    "print ('AUC:\\t', auc)\n",
    "print ('ROC:\\t', roc_auc)"
   ]
  },
  {
   "cell_type": "code",
   "execution_count": null,
   "metadata": {},
   "outputs": [],
   "source": [
    "# plot the ROC curve and AUC\n",
    "\n",
    "plt.figure(figsize=(7, 5), dpi=80, facecolor='w')\n",
    "plt.xlim((-0.01, 1.02))\n",
    "plt.ylim((-0.01, 1.02))\n",
    "plt.xticks(np.arange(0, 1.1, 0.1))  \n",
    "plt.yticks(np.arange(0, 1.1, 0.1))\n",
    "plt.plot(fpr, tpr, 'r-', lw=2, label='AUC (area = {0:.4f})' % auc)\n",
    "plt.legend(loc='lower right')\n",
    "plt.xlabel('FPR', fontsize=14)\n",
    "plt.ylabel('TPR', fontsize=14)\n",
    "plt.grid(visible=True, ls=':')\n",
    "plt.title(u'ROC curve And  AUC', fontsize=18)\n",
    "plt.show()"
   ]
  },
  {
   "cell_type": "code",
   "execution_count": null,
   "metadata": {},
   "outputs": [],
   "source": []
  }
 ],
 "metadata": {
  "kernelspec": {
   "display_name": "Python 3 (ipykernel)",
   "language": "python",
   "name": "python3"
  },
  "language_info": {
   "codemirror_mode": {
    "name": "ipython",
    "version": 3
   },
   "file_extension": ".py",
   "mimetype": "text/x-python",
   "name": "python",
   "nbconvert_exporter": "python",
   "pygments_lexer": "ipython3",
   "version": "3.10.8"
  }
 },
 "nbformat": 4,
 "nbformat_minor": 4
}
